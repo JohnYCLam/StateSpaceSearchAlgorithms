{
 "cells": [
  {
   "cell_type": "markdown",
   "metadata": {},
   "source": [
    "Reference and Source of Example:\n",
    "Russel, S. and Norvig, P. (2010) Artificial Intelligence: a modern approach (Third Edition). Pearson."
   ]
  },
  {
   "cell_type": "code",
   "execution_count": 4,
   "metadata": {},
   "outputs": [],
   "source": [
    "# import library\n",
    "from collections import deque"
   ]
  },
  {
   "cell_type": "code",
   "execution_count": 102,
   "metadata": {},
   "outputs": [],
   "source": [
    "#Assume the graph is expressed in the following form\n",
    "# {Parent_Node_A: [(Child_Node_B, Cost from A to B), Child_Node_C, Cost from A to C]}\n",
    "graph = {\n",
    "    'S' : [('A', 7), ('B', 3), ('C', 3), ('D', 2)],\n",
    "    'A' : [('I', 3)],\n",
    "    'B' : [('E', 3)],\n",
    "    'C' : [('F', 3)],\n",
    "    'D' : [('G', 3)],\n",
    "    'E' : [('I', 4)],\n",
    "    'F' : [('H', 2)],\n",
    "    'G' : [('I', 6)],\n",
    "    'H' : [('I', 1)],\n",
    "    'I' : [(None, 0)]\n",
    "}"
   ]
  },
  {
   "cell_type": "code",
   "execution_count": 73,
   "metadata": {},
   "outputs": [],
   "source": [
    "#BFS or DFS\n",
    "#ignore the cost\n",
    "def blind_search(graph, initial_state, goal_state, search_method):\n",
    "    \"\"\"\n",
    "    Search algorithm based on bfs or dfs\n",
    "\n",
    "    @search_method String: 'bfs' or 'dfs'\n",
    "    \n",
    "    \"\"\"\n",
    "    #initialize the containers\n",
    "    open_queue = deque()\n",
    "    closed_set = set()\n",
    "    path_transversed = []\n",
    "\n",
    "    #step 1: Start at initial state\n",
    "    path_transversed.append(initial_state)\n",
    "    open_queue.append((initial_state, path_transversed))\n",
    "    closed_set.add(initial_state)\n",
    "\n",
    "    #explore child states\n",
    "    while True:\n",
    "        \n",
    "        current_state, path = open_queue.popleft()\n",
    "        print(\"States Explored: \", current_state)\n",
    "        if current_state == goal_state:\n",
    "            print(\"Path found: \", path)\n",
    "            return \n",
    "        \n",
    "        for child_state_tuple in graph[current_state]:\n",
    "            child_state = child_state_tuple[0]\n",
    "            \n",
    "            if child_state != None and child_state not in closed_set:\n",
    "                child_path = path.copy()\n",
    "                child_path.append(child_state)\n",
    "                if search_method == 'bfs':\n",
    "                    open_queue.append((child_state, child_path))\n",
    "                elif search_method == 'dfs':\n",
    "                    open_queue.appendleft((child_state, child_path))\n",
    "                else:\n",
    "                    print(\"Invalid search method\")\n",
    "                    return\n",
    "            closed_set.add(current_state)\n",
    "        \n",
    "        if len(open_queue) == 0:\n",
    "            print(\"Path is not found.\")\n",
    "            return\n",
    "            "
   ]
  },
  {
   "cell_type": "code",
   "execution_count": 70,
   "metadata": {},
   "outputs": [
    {
     "name": "stdout",
     "output_type": "stream",
     "text": [
      "States Explored:  S\n",
      "States Explored:  D\n",
      "States Explored:  G\n",
      "States Explored:  I\n",
      "Path found:  ['S', 'D', 'G', 'I']\n"
     ]
    }
   ],
   "source": [
    "initial_state = 'S'\n",
    "goal_state = 'I'\n",
    "blind_search(graph, initial_state, goal_state, \"dfs\" )"
   ]
  },
  {
   "cell_type": "code",
   "execution_count": 112,
   "metadata": {},
   "outputs": [],
   "source": [
    "def heuristic_search(graph, initial_state, goal_state, search_method, heuristic_fcn = None):\n",
    "    \"\"\"\n",
    "    Search algorithm based on uniform cost search, best first search or A* search\n",
    "\n",
    "    @search_method String: 'uniform_cost' or 'best_first' or 'A_star'\\\\\n",
    "    @heuristic_fcn: In the form of dictionary {Node: Heuristic value from Node to Goal}. None for uniform cost search\n",
    "    \"\"\"\n",
    "    #initialize the containers\n",
    "    open_queue = deque()\n",
    "    closed_set = set()\n",
    "    path_transversed = []\n",
    "    cost_from_inital_to_current = 0\n",
    "    if heuristic_fcn == None:\n",
    "        cost_from_current_to_goal = 0\n",
    "    else:\n",
    "        cost_from_current_to_goal = heuristic_fcn[initial_state]\n",
    "\n",
    "\n",
    "    #step 1: Start at initial state\n",
    "    path_transversed.append(initial_state)\n",
    "    open_queue.append((initial_state, cost_from_inital_to_current, cost_from_current_to_goal, path_transversed))\n",
    "    closed_set.add(initial_state)\n",
    "\n",
    "    #explore child states\n",
    "    while True:\n",
    "        print(open_queue)\n",
    "        current_state, cost_from_inital_to_current, cost_from_current_to_goal, path = open_queue.popleft()\n",
    "        print(\"States Explored: \", current_state)\n",
    "        if current_state == goal_state:\n",
    "            print(\"Path found: \", path, \". Final Cost: \", cost_from_inital_to_current + cost_from_current_to_goal)\n",
    "            return \n",
    "        \n",
    "        for child_state_tuple in graph[current_state]:\n",
    "            child_state = child_state_tuple[0]\n",
    "            cost_from_parent_to_child = child_state_tuple[1]\n",
    "            \n",
    "            if child_state != None and child_state not in closed_set:\n",
    "                child_path = path.copy()\n",
    "                child_path.append(child_state)\n",
    "                                \n",
    "                if search_method == 'uniform_cost':\n",
    "                    child_cost_from_inital_to_current = cost_from_inital_to_current + cost_from_parent_to_child\n",
    "                elif search_method == 'best_first':\n",
    "                    child_cost_from_inital_to_current = 0\n",
    "                    cost_from_current_to_goal = heuristic_fcn[child_state]\n",
    "                    #print(child_cost)\n",
    "                elif search_method == 'A_star':\n",
    "                    child_cost_from_inital_to_current = cost_from_inital_to_current + cost_from_parent_to_child\n",
    "                    cost_from_current_to_goal = heuristic_fcn[child_state]\n",
    "                else:\n",
    "                    print(\"Invalid search method\")\n",
    "                    return\n",
    "                \n",
    "                open_queue.append((child_state, child_cost_from_inital_to_current, cost_from_current_to_goal, child_path))\n",
    "                open_queue = deque(sorted(open_queue, key = lambda child: child[1] + child[2]))\n",
    "                \n",
    "            closed_set.add(current_state)\n",
    "        \n",
    "        if len(open_queue) == 0:\n",
    "            print(\"Path is not found.\")\n",
    "            return"
   ]
  },
  {
   "cell_type": "code",
   "execution_count": 109,
   "metadata": {},
   "outputs": [
    {
     "name": "stdout",
     "output_type": "stream",
     "text": [
      "deque([('S', 0, 0, ['S'])])\n",
      "States Explored:  S\n",
      "deque([('D', 2, 0, ['S', 'D']), ('B', 3, 0, ['S', 'B']), ('C', 3, 0, ['S', 'C']), ('A', 7, 0, ['S', 'A'])])\n",
      "States Explored:  D\n",
      "deque([('B', 3, 0, ['S', 'B']), ('C', 3, 0, ['S', 'C']), ('G', 5, 0, ['S', 'D', 'G']), ('A', 7, 0, ['S', 'A'])])\n",
      "States Explored:  B\n",
      "deque([('C', 3, 0, ['S', 'C']), ('G', 5, 0, ['S', 'D', 'G']), ('E', 6, 0, ['S', 'B', 'E']), ('A', 7, 0, ['S', 'A'])])\n",
      "States Explored:  C\n",
      "deque([('G', 5, 0, ['S', 'D', 'G']), ('E', 6, 0, ['S', 'B', 'E']), ('F', 6, 0, ['S', 'C', 'F']), ('A', 7, 0, ['S', 'A'])])\n",
      "States Explored:  G\n",
      "deque([('E', 6, 0, ['S', 'B', 'E']), ('F', 6, 0, ['S', 'C', 'F']), ('A', 7, 0, ['S', 'A']), ('I', 11, 0, ['S', 'D', 'G', 'I'])])\n",
      "States Explored:  E\n",
      "deque([('F', 6, 0, ['S', 'C', 'F']), ('A', 7, 0, ['S', 'A']), ('I', 10, 0, ['S', 'B', 'E', 'I']), ('I', 11, 0, ['S', 'D', 'G', 'I'])])\n",
      "States Explored:  F\n",
      "deque([('A', 7, 0, ['S', 'A']), ('H', 8, 0, ['S', 'C', 'F', 'H']), ('I', 10, 0, ['S', 'B', 'E', 'I']), ('I', 11, 0, ['S', 'D', 'G', 'I'])])\n",
      "States Explored:  A\n",
      "deque([('H', 8, 0, ['S', 'C', 'F', 'H']), ('I', 10, 0, ['S', 'B', 'E', 'I']), ('I', 10, 0, ['S', 'A', 'I']), ('I', 11, 0, ['S', 'D', 'G', 'I'])])\n",
      "States Explored:  H\n",
      "deque([('I', 9, 0, ['S', 'C', 'F', 'H', 'I']), ('I', 10, 0, ['S', 'B', 'E', 'I']), ('I', 10, 0, ['S', 'A', 'I']), ('I', 11, 0, ['S', 'D', 'G', 'I'])])\n",
      "States Explored:  I\n",
      "Path found:  ['S', 'C', 'F', 'H', 'I'] . Final Cost:  9\n"
     ]
    }
   ],
   "source": [
    "initial_state = 'S'\n",
    "goal_state = 'I'\n",
    "heuristic_search(graph, initial_state, goal_state, \"uniform_cost\" )"
   ]
  },
  {
   "cell_type": "code",
   "execution_count": 113,
   "metadata": {},
   "outputs": [],
   "source": [
    "graph = {\n",
    "    'Arad' : [('Sibiu', 140),('Timisoara', 118),('Zerind', 75)],\n",
    "    'Bucharest' : [('Fararas', 211),('Giurgiu', 90),('Pitesti', 101),('Urziceni', 85)],\n",
    "    'Craiova' :[('Dobreta', 120),('Pitesti', 138),('Rimnicu Vilcea', 146)],\n",
    "    'Dobreta' : [('Craiova', 120),('Mehadia', 75)],\n",
    "    'Eforie' : [('Hirsova', 86)],\n",
    "    'Fararas' : [('Bucharest', 211),('Sibiu', 99)],\n",
    "    'Giurgiu' : [('Bucharest', 90)],\n",
    "    'Hirsova' :[('Eforie', 86),('Urziceni', 98)],\n",
    "    'Iasi' :[('Neamt', 87),('Vaslui', 92)],\n",
    "    'Lugoj' :[('Mehadia', 70),('Timisoara', 111)],\n",
    "    'Mehadia': [('Dobreta', 75),('Lugoj', 70)],\n",
    "    'Neamt' :[('Iasi', 87)],\n",
    "    'Oradea' :[('Sibiu', 151),('Zerind', 71)],\n",
    "    'Pitesti' :[('Bucharest', 101),('Rimnicu Vilcea', 97)],\n",
    "    'Rimnicu Vilcea' : [('Craiova', 146),('Pitesti', 97),('Sibiu', 80)],\n",
    "    'Sibiu':  [('Fararas', 99),('Oradea', 71),('Rimnicu Vilcea', 80)],\n",
    "    'Timisoara' : [('Lugoj', 111), ('Arad', 118)],\n",
    "    'Urziceni' : [('Bucharest', 85),('Hirsova', 98),('Vaslui', 142)],\n",
    "    'Vaslui' :[('Iasi', 92),('Urziceni', 142)],\n",
    "    'Zerind' : [('Arad', 75),('Oradea', 71)]\n",
    "}\n",
    "\n",
    "heuristic_fcn = {'Arad' : 366,\n",
    "    'Bucharest' : 0,\n",
    "    'Craiova' :160,\n",
    "    'Dobreta' : 242,\n",
    "    'Eforie' : 161,\n",
    "    'Fararas' : 178,\n",
    "    'Giurgiu' : 77,\n",
    "    'Hirsova' :151,\n",
    "    'Iasi' :226,\n",
    "    'Lugoj' :244,\n",
    "    'Mehadia': 241,\n",
    "    'Neamt' :234,\n",
    "    'Oradea' :380,\n",
    "    'Pitesti' :98,\n",
    "    'Rimnicu Vilcea' : 193,\n",
    "    'Sibiu':  253,\n",
    "    'Timisoara' : 329,\n",
    "    'Urziceni' : 80,\n",
    "    'Vaslui' :199,\n",
    "    'Zerind' : 374,\n",
    "}\n"
   ]
  },
  {
   "cell_type": "code",
   "execution_count": 114,
   "metadata": {},
   "outputs": [
    {
     "name": "stdout",
     "output_type": "stream",
     "text": [
      "deque([('Arad', 0, 366, ['Arad'])])\n",
      "States Explored:  Arad\n",
      "deque([('Sibiu', 0, 253, ['Arad', 'Sibiu']), ('Timisoara', 0, 329, ['Arad', 'Timisoara']), ('Zerind', 0, 374, ['Arad', 'Zerind'])])\n",
      "States Explored:  Sibiu\n",
      "deque([('Fararas', 0, 178, ['Arad', 'Sibiu', 'Fararas']), ('Rimnicu Vilcea', 0, 193, ['Arad', 'Sibiu', 'Rimnicu Vilcea']), ('Timisoara', 0, 329, ['Arad', 'Timisoara']), ('Zerind', 0, 374, ['Arad', 'Zerind']), ('Oradea', 0, 380, ['Arad', 'Sibiu', 'Oradea'])])\n",
      "States Explored:  Fararas\n",
      "deque([('Bucharest', 0, 0, ['Arad', 'Sibiu', 'Fararas', 'Bucharest']), ('Rimnicu Vilcea', 0, 193, ['Arad', 'Sibiu', 'Rimnicu Vilcea']), ('Timisoara', 0, 329, ['Arad', 'Timisoara']), ('Zerind', 0, 374, ['Arad', 'Zerind']), ('Oradea', 0, 380, ['Arad', 'Sibiu', 'Oradea'])])\n",
      "States Explored:  Bucharest\n",
      "Path found:  ['Arad', 'Sibiu', 'Fararas', 'Bucharest'] . Final Cost:  0\n"
     ]
    }
   ],
   "source": [
    "initial_state = 'Arad'\n",
    "goal_state = 'Bucharest'\n",
    "heuristic_search(graph, initial_state, goal_state, \"best_first\", heuristic_fcn )"
   ]
  },
  {
   "cell_type": "code",
   "execution_count": 115,
   "metadata": {},
   "outputs": [
    {
     "name": "stdout",
     "output_type": "stream",
     "text": [
      "deque([('Arad', 0, 366, ['Arad'])])\n",
      "States Explored:  Arad\n",
      "deque([('Sibiu', 140, 253, ['Arad', 'Sibiu']), ('Timisoara', 118, 329, ['Arad', 'Timisoara']), ('Zerind', 75, 374, ['Arad', 'Zerind'])])\n",
      "States Explored:  Sibiu\n",
      "deque([('Rimnicu Vilcea', 220, 193, ['Arad', 'Sibiu', 'Rimnicu Vilcea']), ('Fararas', 239, 178, ['Arad', 'Sibiu', 'Fararas']), ('Timisoara', 118, 329, ['Arad', 'Timisoara']), ('Zerind', 75, 374, ['Arad', 'Zerind']), ('Oradea', 211, 380, ['Arad', 'Sibiu', 'Oradea'])])\n",
      "States Explored:  Rimnicu Vilcea\n",
      "deque([('Pitesti', 317, 98, ['Arad', 'Sibiu', 'Rimnicu Vilcea', 'Pitesti']), ('Fararas', 239, 178, ['Arad', 'Sibiu', 'Fararas']), ('Timisoara', 118, 329, ['Arad', 'Timisoara']), ('Zerind', 75, 374, ['Arad', 'Zerind']), ('Craiova', 366, 160, ['Arad', 'Sibiu', 'Rimnicu Vilcea', 'Craiova']), ('Oradea', 211, 380, ['Arad', 'Sibiu', 'Oradea'])])\n",
      "States Explored:  Pitesti\n",
      "deque([('Fararas', 239, 178, ['Arad', 'Sibiu', 'Fararas']), ('Bucharest', 418, 0, ['Arad', 'Sibiu', 'Rimnicu Vilcea', 'Pitesti', 'Bucharest']), ('Timisoara', 118, 329, ['Arad', 'Timisoara']), ('Zerind', 75, 374, ['Arad', 'Zerind']), ('Craiova', 366, 160, ['Arad', 'Sibiu', 'Rimnicu Vilcea', 'Craiova']), ('Oradea', 211, 380, ['Arad', 'Sibiu', 'Oradea'])])\n",
      "States Explored:  Fararas\n",
      "deque([('Bucharest', 418, 0, ['Arad', 'Sibiu', 'Rimnicu Vilcea', 'Pitesti', 'Bucharest']), ('Timisoara', 118, 329, ['Arad', 'Timisoara']), ('Zerind', 75, 374, ['Arad', 'Zerind']), ('Bucharest', 450, 0, ['Arad', 'Sibiu', 'Fararas', 'Bucharest']), ('Craiova', 366, 160, ['Arad', 'Sibiu', 'Rimnicu Vilcea', 'Craiova']), ('Oradea', 211, 380, ['Arad', 'Sibiu', 'Oradea'])])\n",
      "States Explored:  Bucharest\n",
      "Path found:  ['Arad', 'Sibiu', 'Rimnicu Vilcea', 'Pitesti', 'Bucharest'] . Final Cost:  418\n"
     ]
    }
   ],
   "source": [
    "initial_state = 'Arad'\n",
    "goal_state = 'Bucharest'\n",
    "heuristic_search(graph, initial_state, goal_state, \"A_star\", heuristic_fcn )"
   ]
  }
 ],
 "metadata": {
  "kernelspec": {
   "display_name": "base",
   "language": "python",
   "name": "python3"
  },
  "language_info": {
   "codemirror_mode": {
    "name": "ipython",
    "version": 3
   },
   "file_extension": ".py",
   "mimetype": "text/x-python",
   "name": "python",
   "nbconvert_exporter": "python",
   "pygments_lexer": "ipython3",
   "version": "3.8.5"
  }
 },
 "nbformat": 4,
 "nbformat_minor": 2
}
